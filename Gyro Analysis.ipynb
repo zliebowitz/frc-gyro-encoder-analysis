{
 "cells": [
  {
   "cell_type": "markdown",
   "metadata": {},
   "source": [
    "# Gyroscope Data Run\n",
    "\n",
    "This is a Jupyter notebook. It provides an environmment for creating programming notebooks that allow a mix of text, code, and output among other things.\n",
    "\n",
    "## setup to rerun\n",
    "\n",
    "To be able to rerun the following, you will need some software on your machine.\n",
    "\n",
    "For Windows users, install python3. Ensure that you select the option to add it to your path.\n",
    "\n",
    "Open a command prompt or terminal and run the following:\n",
    "\n",
    "```\n",
    "pip3 install virtualenv\n",
    "virtualenv venv\n",
    "```\n",
    "\n",
    "For Windows users run:\n",
    "\n",
    "```\n",
    "venv\\Scripts\\activate\n",
    "```\n",
    "\n",
    "For macOS or Linux run:\n",
    "\n",
    "```\n",
    "source venv/bin/activate\n",
    "```\n",
    "\n",
    "For either, run the following:\n",
    "\n",
    "```\n",
    "pip3 install -r requirements.txt\n",
    "jupyter notebook\n",
    "```\n",
    "\n",
    "Open \"Gyro Ab=nalysis.ipynb\" from the the newly opened webpage.\n",
    "Select \"kernel\" from the top followed by \"Restart & run all\". If you see the plots regenerated and no red output everything was successful.\n",
    "\n",
    "To fully reproduce this analysis, you would have to convert the original output file to a csv. The way this was originally done is sufficiently complex that it will be left out. If attempting to redi this, it is encouraged to try a reproducable method.\n",
    "\n",
    "## Analysis\n",
    "\n",
    "On 7/31/17, we ran a P-Controller robot based on the gyroscope data. We had two encoders (different models) running as well, so I decided to look at the data.\n",
    "\n",
    "The run was roughly one second.\n",
    "\n",
    "First thing to do is set up our environment"
   ]
  },
  {
   "cell_type": "code",
   "execution_count": 1,
   "metadata": {},
   "outputs": [],
   "source": [
    "# allows graphs to render in page\n",
    "%matplotlib inline\n",
    "import pandas as pd # data analysus library"
   ]
  },
  {
   "cell_type": "markdown",
   "metadata": {},
   "source": [
    "I mangled together the data in the word doc into a csv. I don't want to go into detail, but I will likely have us try better methods of recording data in the future,\n",
    "\n",
    "Changes were not made to the file, except the minimal to make it a csv."
   ]
  },
  {
   "cell_type": "code",
   "execution_count": 2,
   "metadata": {},
   "outputs": [
    {
     "data": {
      "text/html": [
       "<div>\n",
       "<style>\n",
       "    .dataframe thead tr:only-child th {\n",
       "        text-align: right;\n",
       "    }\n",
       "\n",
       "    .dataframe thead th {\n",
       "        text-align: left;\n",
       "    }\n",
       "\n",
       "    .dataframe tbody tr th {\n",
       "        vertical-align: top;\n",
       "    }\n",
       "</style>\n",
       "<table border=\"1\" class=\"dataframe\">\n",
       "  <thead>\n",
       "    <tr style=\"text-align: right;\">\n",
       "      <th></th>\n",
       "      <th>time</th>\n",
       "      <th>ignore</th>\n",
       "      <th>gyro</th>\n",
       "      <th>enc1</th>\n",
       "      <th>enc2</th>\n",
       "    </tr>\n",
       "  </thead>\n",
       "  <tbody>\n",
       "    <tr>\n",
       "      <th>0</th>\n",
       "      <td>1501552636402</td>\n",
       "      <td>0.000075</td>\n",
       "      <td>0.000150</td>\n",
       "      <td>0.0</td>\n",
       "      <td>-5.0</td>\n",
       "    </tr>\n",
       "    <tr>\n",
       "      <th>1</th>\n",
       "      <td>1501552636427</td>\n",
       "      <td>-0.000138</td>\n",
       "      <td>-0.000138</td>\n",
       "      <td>0.0</td>\n",
       "      <td>-5.0</td>\n",
       "    </tr>\n",
       "    <tr>\n",
       "      <th>2</th>\n",
       "      <td>1501552636442</td>\n",
       "      <td>-0.103075</td>\n",
       "      <td>-0.103075</td>\n",
       "      <td>4.0</td>\n",
       "      <td>-40.0</td>\n",
       "    </tr>\n",
       "  </tbody>\n",
       "</table>\n",
       "</div>"
      ],
      "text/plain": [
       "            time    ignore      gyro  enc1  enc2\n",
       "0  1501552636402  0.000075  0.000150   0.0  -5.0\n",
       "1  1501552636427 -0.000138 -0.000138   0.0  -5.0\n",
       "2  1501552636442 -0.103075 -0.103075   4.0 -40.0"
      ]
     },
     "execution_count": 2,
     "metadata": {},
     "output_type": "execute_result"
    }
   ],
   "source": [
    "data = pd.read_csv('data.csv')\n",
    "data[:3] # first 3 rows"
   ]
  },
  {
   "cell_type": "markdown",
   "metadata": {},
   "source": [
    "The above has a few weird features.\n",
    "\n",
    "The time doesn't look useful. This is what is known as unix time, the number of milliseconds since January 1, 1970.\n",
    "\n",
    "There is a column that I labeled ignore. There were two gyroscope readings. The second one was deemed more useful.\n",
    "\n",
    "The encoders are going in opposite directions. It is easier to consider forwards to be positive.\n",
    "\n",
    "Here we will manipulate the data to make it a bit cleaner. The time is still off by an hour but that is unimportant for our use case."
   ]
  },
  {
   "cell_type": "code",
   "execution_count": 3,
   "metadata": {},
   "outputs": [
    {
     "data": {
      "text/html": [
       "<div>\n",
       "<style>\n",
       "    .dataframe thead tr:only-child th {\n",
       "        text-align: right;\n",
       "    }\n",
       "\n",
       "    .dataframe thead th {\n",
       "        text-align: left;\n",
       "    }\n",
       "\n",
       "    .dataframe tbody tr th {\n",
       "        vertical-align: top;\n",
       "    }\n",
       "</style>\n",
       "<table border=\"1\" class=\"dataframe\">\n",
       "  <thead>\n",
       "    <tr style=\"text-align: right;\">\n",
       "      <th></th>\n",
       "      <th>gyro</th>\n",
       "      <th>enc1</th>\n",
       "      <th>enc2</th>\n",
       "    </tr>\n",
       "    <tr>\n",
       "      <th>time</th>\n",
       "      <th></th>\n",
       "      <th></th>\n",
       "      <th></th>\n",
       "    </tr>\n",
       "  </thead>\n",
       "  <tbody>\n",
       "    <tr>\n",
       "      <th>2017-07-31 21:57:16.402000-04:00</th>\n",
       "      <td>0.000150</td>\n",
       "      <td>0.0</td>\n",
       "      <td>5.0</td>\n",
       "    </tr>\n",
       "    <tr>\n",
       "      <th>2017-07-31 21:57:16.427000-04:00</th>\n",
       "      <td>-0.000138</td>\n",
       "      <td>0.0</td>\n",
       "      <td>5.0</td>\n",
       "    </tr>\n",
       "    <tr>\n",
       "      <th>2017-07-31 21:57:16.442000-04:00</th>\n",
       "      <td>-0.103075</td>\n",
       "      <td>4.0</td>\n",
       "      <td>40.0</td>\n",
       "    </tr>\n",
       "  </tbody>\n",
       "</table>\n",
       "</div>"
      ],
      "text/plain": [
       "                                      gyro  enc1  enc2\n",
       "time                                                  \n",
       "2017-07-31 21:57:16.402000-04:00  0.000150   0.0   5.0\n",
       "2017-07-31 21:57:16.427000-04:00 -0.000138   0.0   5.0\n",
       "2017-07-31 21:57:16.442000-04:00 -0.103075   4.0  40.0"
      ]
     },
     "execution_count": 3,
     "metadata": {},
     "output_type": "execute_result"
    }
   ],
   "source": [
    "del data['ignore']\n",
    "data.enc2 = -1 * data.enc2\n",
    "data['time'] = pd.DatetimeIndex(pd.to_datetime(data['time'], unit='ms'))\\\n",
    "                 .tz_localize('UTC' )\\\n",
    "                 .tz_convert('America/New_York')\n",
    "data.set_index('time', inplace=True)\n",
    "data[:3]"
   ]
  },
  {
   "cell_type": "code",
   "execution_count": 4,
   "metadata": {},
   "outputs": [
    {
     "data": {
      "text/plain": [
       "<matplotlib.axes._subplots.AxesSubplot at 0x110bc7cf8>"
      ]
     },
     "execution_count": 4,
     "metadata": {},
     "output_type": "execute_result"
    },
    {
     "data": {
      "image/png": "[encoded data removed]",
      "text/plain": [
       "<matplotlib.figure.Figure at 0x10dff47f0>"
      ]
     },
     "metadata": {},
     "output_type": "display_data"
    }
   ],
   "source": [
    "data['gyro'].plot()"
   ]
  },
  {
   "cell_type": "markdown",
   "metadata": {},
   "source": [
    "The above data plot is our gyroscope data, It shows oscillation, but unfortunately it shows an unstable system where error grows over time,\n",
    "\n",
    "Now we need to look into the encoders. Due to the different models, we will need to apply a correction factor, To do so, I have chosen a data point where the wheel turns should be equal (0 angle). I have found a near-zero point and chose to use that,"
   ]
  },
  {
   "cell_type": "code",
   "execution_count": 5,
   "metadata": {},
   "outputs": [
    {
     "data": {
      "text/plain": [
       "gyro      -0.00115\n",
       "enc1     849.00000\n",
       "enc2    2388.00000\n",
       "Name: 2017-07-31 21:57:17.303000-04:00, dtype: float64"
      ]
     },
     "execution_count": 5,
     "metadata": {},
     "output_type": "execute_result"
    }
   ],
   "source": [
    "data.loc['2017-07-31 21:57:17.303000-04:00']"
   ]
  },
  {
   "cell_type": "markdown",
   "metadata": {},
   "source": [
    "Now, let's attempt to use this to create a graph that should be proportional to angle."
   ]
  },
  {
   "cell_type": "code",
   "execution_count": 6,
   "metadata": {},
   "outputs": [
    {
     "data": {
      "text/plain": [
       "<matplotlib.axes._subplots.AxesSubplot at 0x110d0da20>"
      ]
     },
     "execution_count": 6,
     "metadata": {},
     "output_type": "execute_result"
    },
    {
     "data": {
      "image/png": "[encoded data removed]",
      "text/plain": [
       "<matplotlib.figure.Figure at 0x10dff4908>"
      ]
     },
     "metadata": {},
     "output_type": "display_data"
    }
   ],
   "source": [
    "(849 / 2388 *(data.enc2) - (data.enc1)).plot()"
   ]
  },
  {
   "cell_type": "markdown",
   "metadata": {},
   "source": [
    "Unfortunately, we had no luck with this,\n",
    "\n",
    "What do we do now?"
   ]
  },
  {
   "cell_type": "code",
   "execution_count": 7,
   "metadata": {},
   "outputs": [
    {
     "data": {
      "text/plain": [
       "<matplotlib.axes._subplots.AxesSubplot at 0x110d69e10>"
      ]
     },
     "execution_count": 7,
     "metadata": {},
     "output_type": "execute_result"
    },
    {
     "data": {
      "image/png": "[encoded data removed]",
      "text/plain": [
       "<matplotlib.figure.Figure at 0x110d875c0>"
      ]
     },
     "metadata": {},
     "output_type": "display_data"
    }
   ],
   "source": [
    "encs = data[['enc1', 'enc2']].copy(deep=True)\n",
    "encs.enc2 = 849 / 2388 * encs.enc2\n",
    "encs.plot()"
   ]
  },
  {
   "cell_type": "code",
   "execution_count": null,
   "metadata": {
    "collapsed": true
   },
   "outputs": [],
   "source": []
  }
 ],
 "metadata": {
  "kernelspec": {
   "display_name": "Python 3",
   "language": "python",
   "name": "python3"
  },
  "language_info": {
   "codemirror_mode": {
    "name": "ipython",
    "version": 3
   },
   "file_extension": ".py",
   "mimetype": "text/x-python",
   "name": "python",
   "nbconvert_exporter": "python",
   "pygments_lexer": "ipython3",
   "version": "3.6.2"
  }
 },
 "nbformat": 4,
 "nbformat_minor": 2
}
